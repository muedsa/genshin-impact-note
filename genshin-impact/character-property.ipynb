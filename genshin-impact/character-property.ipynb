{
 "cells": [
  {
   "cell_type": "code",
   "execution_count": 1,
   "metadata": {},
   "outputs": [],
   "source": [
    "import matplotlib.pyplot as plt\n",
    "import numpy as np\n",
    "from tabulate import tabulate\n",
    "plt.rcParams['font.sans-serif'] = ['SimHei']  # 黑体\n",
    "plt.rcParams['axes.unicode_minus'] = False"
   ]
  },
  {
   "attachments": {},
   "cell_type": "markdown",
   "metadata": {},
   "source": [
    "## 基础属性数值\n",
    "角色基础属性如: 生命值、攻击力、防御力。\n",
    "$$基础属性数值 =  属性固定值 * 角色倍率 * 等级系数 + 突破值$$\n",
    "\n",
    "每个角色的基础值都不同，但基础值有一个固定数值的倍数(整数倍)得来，如神里绫华的攻击力基础值为`26.6266 = 0.1862 * 143`\n",
    "\n",
    "|     |   生命值 |   攻击力 |   防御力 |\n",
    "|-----|----------|----------|----------|\n",
    "| 4星 |  9.11791 |  0.17808 |  0.57225 |\n",
    "| 5星 |  0.1862  |  0.1862  |  0.5983  |\n"
   ]
  },
  {
   "attachments": {},
   "cell_type": "markdown",
   "metadata": {},
   "source": [
    "### 等级系数\n",
    "与等级有关的系数，计算公式：\n",
    "$$ 角色等级系数 = \\begin{cases}\n",
    "\\frac{9 * 等级 + 100}{109} ,& 4星角色 \\\\\n",
    "\\frac{9 * 等级 + 100}{109} * \\frac{等级 + 1900}{1901} ,& 5星角色 \\\\\n",
    "\\end{cases}$$"
   ]
  },
  {
   "attachments": {},
   "cell_type": "markdown",
   "metadata": {},
   "source": [
    "## 突破值\n",
    "角色突破`20/40/50/60/70/80`等级限制时所增加的数值，通过最大值(角色突破90级时为最终突破值)按比例`38:27:36:27:27:27`进行分配。  \n",
    "最大突破数值也有一个固定值：  \n",
    "\n",
    "|     |   生命值 |   攻击力 |   防御力 |\n",
    "|-----|----------|----------|----------|\n",
    "| 4星 | 0.179251 | 0.003501 |  0.01125 |\n",
    "| 5星 | 0.215102 | 0.004201 |  0.0135  |\n"
   ]
  },
  {
   "attachments": {},
   "cell_type": "markdown",
   "metadata": {},
   "source": [
    "### 角色最大生命值\n",
    "计算公式：  \n",
    "$$最大生命值 = 角色基础生命值 * (1 + 百分比加成) + 固定值加成$$\n",
    "\n",
    "基础生命值与等级有关，某些角色等级突破会增加百分比加成，装备的百分比加成仅能对基础生命值加成，固定值最后附加。"
   ]
  },
  {
   "attachments": {},
   "cell_type": "markdown",
   "metadata": {},
   "source": [
    "#### 以白术为例\n",
    "\n",
    "![白术1](../asset/image/genshin/baizhu1.png)  \n",
    "\n",
    "角色属性查询仅能得到被省略小数位的数值(角色和圣遗物的数值存在很多小数位)。以此为基础计算结果可以做为参考，但肯定与实际结果有出入。\n",
    "- 89级基础血量`13254`\n",
    "- 80级等级突破生命值加成≈`28.8%`\n",
    "- 88级武器-试作金珀`39.5%`\n",
    "- 圣遗物套装-生命2+2`40% = 20% + 20%`\n",
    "- 圣遗物-花`4780`\n",
    "- 圣遗物-生生生`139.8% = 46.6% * 3`\n",
    "- 圣遗物-副词条百分比加成`26.8% = 11.1% + 15.7%`\n",
    "- 圣遗物-副词条固定加成`1076 = 538 + 538`\n",
    "\n",
    "也可通过[enka.network](https://enka.network)的接口查询具体数值\n",
    "- 基础生命值`13254.5224609375`\n",
    "- 固定数值加成`5855.509765625`\n",
    "- 百分比加成`2.7494802474975586`"
   ]
  },
  {
   "cell_type": "code",
   "execution_count": 2,
   "metadata": {},
   "outputs": [
    {
     "name": "stdout",
     "output_type": "stream",
     "text": [
      "55545.246\n",
      "55553.07992292289\n"
     ]
    }
   ],
   "source": [
    "print(13254 * (1 + 0.288 + 0.395 + 0.4 + 1.398 + 0.268) + 4780 + 1076)\n",
    "\n",
    "print(13254.5224609375 * (1 + 2.7494802474975586) + 5855.509765625)"
   ]
  },
  {
   "attachments": {},
   "cell_type": "markdown",
   "metadata": {},
   "source": [
    "## 突破属性加成\n",
    "角色突破`20/40/50/60/70/80`等级限制时带来的属性加成。\n",
    "\n",
    "|              | 4星   | 5星   |\n",
    "|--------------|-------|-------|\n",
    "| 元素伤害加成 | 6%    | 7.2%  |\n",
    "| 攻击力       | 6%    | 7.2%  |\n",
    "| 生命值       | 6%    | 7.2%  |\n",
    "| 防御力       | 7.5%  | N/A   |\n",
    "| 物理伤害加成 | 7.5%  | N/A   |\n",
    "| 元素充能效率 | 6.7%  | 8%    |\n",
    "| 元素精通     | 24    | 28.8  |\n",
    "| 治疗加成     | N/A   | 5.5%  |\n",
    "| 暴击率       | N/A   | 4.8%  |\n",
    "| 暴击伤害     | N/A   | 9.6%  |\n",
    "\n",
    "仅在突破`20/40/60/70`时增加一倍。"
   ]
  }
 ],
 "metadata": {
  "kernelspec": {
   "display_name": "Python 3",
   "language": "python",
   "name": "python3"
  },
  "language_info": {
   "codemirror_mode": {
    "name": "ipython",
    "version": 3
   },
   "file_extension": ".py",
   "mimetype": "text/x-python",
   "name": "python",
   "nbconvert_exporter": "python",
   "pygments_lexer": "ipython3",
   "version": "3.10.0"
  },
  "orig_nbformat": 4
 },
 "nbformat": 4,
 "nbformat_minor": 2
}
