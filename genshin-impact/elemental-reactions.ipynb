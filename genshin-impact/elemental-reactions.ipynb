{
 "cells": [
  {
   "cell_type": "code",
   "execution_count": null,
   "metadata": {},
   "outputs": [],
   "source": [
    "import matplotlib.pyplot as plt\n",
    "import numpy as np\n",
    "from tabulate import tabulate\n",
    "plt.rcParams['font.sans-serif'] = ['SimHei']  # 黑体\n",
    "plt.rcParams['axes.unicode_minus'] = False"
   ]
  },
  {
   "attachments": {},
   "cell_type": "markdown",
   "metadata": {},
   "source": [
    "# 元素反应\n",
    "元素反应过于复杂,同时受到多个参与反应的角色数据、敌人数据、环境数据的影响  \n",
    "- 增幅反应: 对伤害造成增幅，如**蒸发**、**融化**\n",
    "- 剧变反应: 造成额外伤害，如**超导**、**超载**、**感电**、**绽放**、**冻结/碎冰**\n"
   ]
  },
  {
   "attachments": {},
   "cell_type": "markdown",
   "metadata": {},
   "source": [
    "## 增幅反应"
   ]
  },
  {
   "attachments": {},
   "cell_type": "markdown",
   "metadata": {},
   "source": [
    "## 剧变反应\n",
    "造成的额外伤害与一个固定的基础伤害有关\n",
    "\n",
    "### 伤害计算\n",
    "$$剧变反应伤害 = 反应基础伤害 * 等级系数 * 反应基础倍率 * 反应伤害提升系数 * 抗性系数 * 额外收益$$\n",
    "\n",
    "反应基础伤害、等级系数、反应基础倍率可看下图:\n",
    "![剧变反应基础伤害](../asset/image/genshin/transformative_reaction_base_damage.png)  "
   ]
  }
 ],
 "metadata": {
  "language_info": {
   "name": "python"
  },
  "orig_nbformat": 4
 },
 "nbformat": 4,
 "nbformat_minor": 2
}
