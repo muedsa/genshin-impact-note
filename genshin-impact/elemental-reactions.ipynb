{
 "cells": [
  {
   "cell_type": "code",
   "execution_count": 21,
   "metadata": {},
   "outputs": [],
   "source": [
    "import matplotlib.pyplot as plt\n",
    "import numpy as np\n",
    "from tabulate import tabulate\n",
    "plt.rcParams['font.sans-serif'] = ['SimHei']  # 黑体\n",
    "plt.rcParams['axes.unicode_minus'] = False"
   ]
  },
  {
   "attachments": {},
   "cell_type": "markdown",
   "metadata": {},
   "source": [
    "# 元素反应\n",
    "元素反应过于复杂,同时受到多个参与反应的角色数据、敌人数据、环境数据的影响  \n",
    "- 增幅反应(Amplifying): 元素之间反应对伤害进行增幅，如**蒸发**、**融化**\n",
    "- 剧变反应(Transformative): 元素之间反应造成额外效果(大部分会产生额外伤害,有些并没有伤害但有额外效果如冻结、结晶)，如**超导**、**超载**、**感电**、**绽放**、**冻结/碎冰**"
   ]
  },
  {
   "attachments": {},
   "cell_type": "markdown",
   "metadata": {},
   "source": [
    "## 增幅反应"
   ]
  },
  {
   "attachments": {},
   "cell_type": "markdown",
   "metadata": {},
   "source": [
    "## 剧变反应\n",
    "造成的额外伤害(与角色的普通伤害、战技、元素爆发伤害无关)与一个固定的基础伤害有关,角色等级和反应类型会影响其伤害,此外角色的精通和各种奇怪的方式(角色天赋,副本BUFF等)提供反应伤害加成,对不同敌人也有不同的元素抗性(反应会造成元素伤害),甚至还有额外的收益(如草神命座2可以使绽放反应暴击)\n",
    "\n",
    "- 超导: 冰+雷, 造成雷元素伤害\n",
    "- 超载：雷+火, 造成火元素伤害\n",
    "\n",
    "### 伤害计算\n",
    "$$剧变反应伤害 = 反应基础伤害 * 等级系数 * 反应基础倍率 * 反应伤害提升系数 * 抗性系数 * 额外收益$$\n",
    "\n",
    "反应基础伤害、等级系数、反应基础倍率可看下图:\n",
    "![剧变反应基础伤害](../asset/image/genshin/transformative_reaction_base_damage.png)  \n",
    "\n",
    "#### 精通提供的反应伤害加成\n",
    "看精通的描述可以发现会对不同的元素反应提供不同的加成:  \n",
    "$$\\frac{16*精通}{2000+精通}$$"
   ]
  },
  {
   "cell_type": "code",
   "execution_count": 22,
   "metadata": {},
   "outputs": [
    {
     "data": {
      "image/png": "[encoded data removed]",
      "text/plain": [
       "<Figure size 432x288 with 1 Axes>"
      ]
     },
     "metadata": {
      "needs_background": "light"
     },
     "output_type": "display_data"
    }
   ],
   "source": [
    "x = np.arange(0, 1600)\n",
    "plt.plot(x, (16 * x)/(2000 + x))\n",
    "plt.grid(axis='x')\n",
    "plt.title('精通提供的反应伤害加成')\n",
    "plt.show()"
   ]
  },
  {
   "attachments": {},
   "cell_type": "markdown",
   "metadata": {},
   "source": [
    "#### 伤害收益\n",
    "1000精通将带来`533.33%`的反应伤害加成\n",
    "对于10%抗性(大部分怪物抗性)的敌人仅能造成`90%`的伤害"
   ]
  },
  {
   "cell_type": "code",
   "execution_count": 23,
   "metadata": {},
   "outputs": [
    {
     "name": "stdout",
     "output_type": "stream",
     "text": [
      "| 反应类型   |   1000精通造成的伤害 |\n",
      "|------------|----------------------|\n",
      "| 超导       |              4123.52 |\n",
      "| 扩散       |              4948.23 |\n",
      "| 碎冰       |             12370.57 |\n",
      "| 超载       |             16494.09 |\n",
      "| 感电       |              9896.45 |\n",
      "| 燃烧-0.26s |              2061.76 |\n",
      "| 绽放       |             16494.09 |\n",
      "| 超/烈绽放  |             24741.13 |\n"
     ]
    }
   ],
   "source": [
    "def simpleTRDamange(r, em):\n",
    "    return 1446.85 * r * (1 + (16 * em)/(2000 + em)) * 0.9\n",
    "\n",
    "\n",
    "trRates = (\n",
    "    ('超导', 0.5),\n",
    "    ('扩散', 0.6),\n",
    "    ('碎冰', 1.5),\n",
    "    ('超载', 2),\n",
    "    ('感电', 1.2),\n",
    "    ('燃烧-0.26s', 0.25),\n",
    "    ('绽放', 2),\n",
    "    ('超/烈绽放', 3)\n",
    ")\n",
    "transformativeDamangeTable = []\n",
    "for rate in trRates:\n",
    "    transformativeDamangeTable.append((\n",
    "        rate[0],\n",
    "        simpleTRDamange(rate[1], 1000)\n",
    "    ))\n",
    "\n",
    "print(tabulate(transformativeDamangeTable, headers=[\n",
    "      '反应类型', '1000精通造成的伤害'], floatfmt='.2f', tablefmt='github'))"
   ]
  },
  {
   "attachments": {},
   "cell_type": "markdown",
   "metadata": {},
   "source": [
    "由于剧变反应基于一个固定的伤害数值，角色属性(忽略等级)中仅有精通可以对剧变反应伤害加成造成影响，而提升精通必然要牺牲攻击加成、暴击爆伤等影响技能伤害的属性。除去草系绽放外，其他反应很难比得过增幅反应。但在3.0版本引入草系之后，绽放、超/烈绽放反应不但有更高的反应基础系数，草系角色天赋、圣遗物、元素共鸣也给反应带来更多的加成和抗性缩减，高效的产种方式也使得反应触发次数大幅提高。"
   ]
  }
 ],
 "metadata": {
  "kernelspec": {
   "display_name": "Python 3",
   "language": "python",
   "name": "python3"
  },
  "language_info": {
   "codemirror_mode": {
    "name": "ipython",
    "version": 3
   },
   "file_extension": ".py",
   "mimetype": "text/x-python",
   "name": "python",
   "nbconvert_exporter": "python",
   "pygments_lexer": "ipython3",
   "version": "3.10.0"
  },
  "orig_nbformat": 4
 },
 "nbformat": 4,
 "nbformat_minor": 2
}
