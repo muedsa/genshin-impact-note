{
 "cells": [
  {
   "cell_type": "code",
   "execution_count": null,
   "metadata": {},
   "outputs": [],
   "source": [
    "import matplotlib.pyplot as plt\n",
    "import numpy as np\n",
    "from tabulate import tabulate\n",
    "plt.rcParams['font.sans-serif'] = ['SimHei']  # 黑体\n",
    "plt.rcParams['axes.unicode_minus'] = False"
   ]
  },
  {
   "attachments": {},
   "cell_type": "markdown",
   "metadata": {},
   "source": [
    "# 生命加成\n",
    "\n",
    "## 计算公式  \n",
    "$$最大生命值 = 角色基础生命值 * (1 + 百分比加成) + 固定值加成$$\n",
    "\n",
    "基础生命值与等级有关，某些角色等级突破会增加百分比加成，装备的百分比加成仅能对基础生命值加成，固定值最后附加。"
   ]
  }
 ],
 "metadata": {
  "language_info": {
   "name": "python"
  },
  "orig_nbformat": 4
 },
 "nbformat": 4,
 "nbformat_minor": 2
}
