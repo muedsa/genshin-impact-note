{
 "cells": [
  {
   "cell_type": "code",
   "execution_count": 61,
   "metadata": {},
   "outputs": [],
   "source": [
    "import matplotlib.pyplot as plt\n",
    "import numpy as np\n",
    "from tabulate import tabulate\n",
    "plt.rcParams['font.sans-serif'] = ['SimHei']  # 黑体\n",
    "plt.rcParams['axes.unicode_minus'] = False"
   ]
  },
  {
   "attachments": {},
   "cell_type": "markdown",
   "metadata": {},
   "source": [
    "# 元素抗性\n",
    "$$抗性百分比 = 基础抗性百分比 + 抗性加成百分比 - 减抗加成百分比$$\n",
    "\n",
    "## 抗性系数\n",
    "抗性对对应属性伤害降低程度(百分比)，如对`10%`抗性的敌人只能造成`90%`的伤害，而对`-10%`抗性的敌人可以造成`105%`的伤害  \n",
    "计算公式:  \n",
    "$$抗性系数 = \\begin{cases}\n",
    "1 - \\frac{抗性}{2} ,& 抗性<0 \\\\\n",
    "1 - 抗性 ,& 0 <=抗性<0.75 \\\\\n",
    "\\frac{1}{1+ 4 * 抗性} ,& 抗性>=0.75 \\\\\n",
    "\\end{cases}$$"
   ]
  },
  {
   "cell_type": "code",
   "execution_count": 62,
   "metadata": {},
   "outputs": [
    {
     "data": {
      "image/png": "[encoded data removed]",
      "text/plain": [
       "<Figure size 432x288 with 1 Axes>"
      ]
     },
     "metadata": {
      "needs_background": "light"
     },
     "output_type": "display_data"
    }
   ],
   "source": [
    "x1 = np.arange(-1.5, 0, 0.01)\n",
    "x2 = np.arange(0, 0.75, 0.01)\n",
    "x3 = np.arange(0.75, 3, 0.01)\n",
    "plt.plot(x1, 1 - x1 / 2)\n",
    "plt.plot(x2, 1 - x2)\n",
    "plt.plot(x3, 1 / (1 + 4 * x3))\n",
    "plt.title('抗性系数')\n",
    "plt.xticks(ticks=np.arange(-1.5, 3.25, 0.25), rotation=90)\n",
    "plt.show()"
   ]
  },
  {
   "attachments": {},
   "cell_type": "markdown",
   "metadata": {},
   "source": [
    "## 减抗手段\n",
    "角色和命座获取难度较大,圣遗物减抗方式较少但提升比较大。\n",
    "\n",
    "### 角色技能\n",
    "- 重云\n",
    "- 钟离\n",
    "- 珐露珊\n",
    "- 申鹤\n",
    "- 优菈\n",
    "\n",
    "### 角色命座\n",
    "- 妮露[2] 水/草-35%\n",
    "- 北斗[6] 雷-15%\n",
    "- 行秋[2] 水-15%\n",
    "- 香菱[1] 火-15%\n",
    "- 罗莎莉亚[6] 物-20%\n",
    "- 温迪[2] 风/物-12%(-24%)\n",
    "- 温迪[6] 风/被扩散属性-20%\n",
    "- 辛炎[4] 物-15%\n",
    "- 甘雨[1] 冰-15%\n",
    "- 旅行者[风 6] 风-40%\n",
    "- 旅行者[雷 2] 雷-15%\n",
    "- 琴[4] 风-40%\n",
    "\n",
    "### 圣遗物套装效果\n",
    "- 深林的回忆[4] 草-30%\n",
    "- 翠绿之影[4] 被扩散属性-40%"
   ]
  }
 ],
 "metadata": {
  "kernelspec": {
   "display_name": "Python 3",
   "language": "python",
   "name": "python3"
  },
  "language_info": {
   "codemirror_mode": {
    "name": "ipython",
    "version": 3
   },
   "file_extension": ".py",
   "mimetype": "text/x-python",
   "name": "python",
   "nbconvert_exporter": "python",
   "pygments_lexer": "ipython3",
   "version": "3.10.0"
  },
  "orig_nbformat": 4
 },
 "nbformat": 4,
 "nbformat_minor": 2
}
